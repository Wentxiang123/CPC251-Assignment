{
 "cells": [
  {
   "cell_type": "markdown",
   "id": "39d43a4e",
   "metadata": {},
   "source": [
    "Note: Use this template to develop your project. Do not change the steps. For each step, you may add additional cells if needed."
   ]
  },
  {
   "cell_type": "markdown",
   "id": "2b9b28a8",
   "metadata": {},
   "source": [
    "#### Group Information\n",
    "\n",
    "Group No: \n",
    "\n",
    "- Member 1: Xiang Wentao\n",
    "- Member 2: Zhu Yuedong\n",
    "- Member 3: Xie Zhaopeng\n",
    "- Member 4: Qin Shuozhe"
   ]
  },
  {
   "cell_type": "markdown",
   "id": "2c0a3c45",
   "metadata": {},
   "source": [
    "#### Import Libraries"
   ]
  },
  {
   "cell_type": "code",
   "execution_count": 1,
   "id": "79b84136",
   "metadata": {},
   "outputs": [],
   "source": [
    "%config Completer.use_jedi=False\n",
    "import tensorflow as tf\n",
    "import numpy as np\n",
    "import pandas as pd\n",
    "import matplotlib.pyplot as plt\n",
    "from sklearn.metrics import confusion_matrix, classification_report\n",
    "from sklearn.model_selection import train_test_split"
   ]
  },
  {
   "cell_type": "markdown",
   "id": "5dceb4ff",
   "metadata": {},
   "source": [
    "#### Load the dataset"
   ]
  },
  {
   "cell_type": "code",
   "execution_count": 2,
   "id": "196e35cd-74f2-43be-8438-beacf0d7cd0c",
   "metadata": {},
   "outputs": [],
   "source": [
    "df = pd.read_csv(\"C:\\\\Users\\\\16612\\\\OneDrive\\\\Desktop\\\\Assignment 1\\\\classification_dataset.csv\")\n",
    "X = df.drop(\"label\", axis=1).values.astype(np.float32)\n",
    "y = df[\"label\"].values.astype(np.float32).reshape(-1, 1)"
   ]
  },
  {
   "cell_type": "markdown",
   "id": "7f0f56c6",
   "metadata": {},
   "source": [
    "#### Define the loss function"
   ]
  },
  {
   "cell_type": "code",
   "execution_count": 6,
   "id": "b4024775",
   "metadata": {},
   "outputs": [],
   "source": [
    "def loss_fn(y, yhat):\n",
    "    \"\"\"Binary cross-entropy loss (numerically stable).\"\"\"\n",
    "    y = tf.cast(y, tf.float32)\n",
    "    yhat = tf.clip_by_value(yhat, 1e-7, 1 - 1e-7)  # prevent log(0)\n",
    "    return -tf.reduce_mean(y * tf.math.log(yhat) + (1 - y) * tf.math.log(1 - yhat))"
   ]
  },
  {
   "cell_type": "markdown",
   "id": "753a2eca",
   "metadata": {},
   "source": [
    "#### Define function to perform prediction"
   ]
  },
  {
   "cell_type": "code",
   "execution_count": 8,
   "id": "bdbf2168",
   "metadata": {},
   "outputs": [],
   "source": [
    "def sigmoid(z):\n",
    "    return 1 / (1 + tf.exp(-z))\n",
    "\n",
    "def relu(z):\n",
    "    return tf.maximum(0.0, z)\n",
    "\n",
    "def forward(W, B, x):\n",
    "    z1 = tf.matmul(x, W[0]) + B[0]\n",
    "    h1 = relu(z1)\n",
    "    z2 = tf.matmul(h1, W[1]) + B[1]\n",
    "    yhat = sigmoid(z2)\n",
    "    return yhat"
   ]
  },
  {
   "cell_type": "markdown",
   "id": "e7bc735b",
   "metadata": {},
   "source": [
    "#### Define function for model training\n",
    "Display the training and validation loss values for each epoch of the training loop. The displayed value must be in 6 decimal places.<br>\n",
    "Hint: <br>\n",
    "Use `tf.GradientTape` to compute the gradients."
   ]
  },
  {
   "cell_type": "code",
   "execution_count": 12,
   "id": "fe17ccc5",
   "metadata": {},
   "outputs": [],
   "source": [
    "def train(W, B, x, y, alpha):\n",
    "    with tf.GradientTape() as tape:\n",
    "        yhat = forward(W, B, x)\n",
    "        loss = loss_fn(y, yhat)\n",
    "    grads = tape.gradient(loss, W + B)\n",
    "    for i in range(len(W)):\n",
    "        W[i].assign_sub(alpha * grads[i])\n",
    "        B[i].assign_sub(alpha * grads[i + len(W)])\n",
    "    return loss"
   ]
  },
  {
   "cell_type": "markdown",
   "id": "28f45213",
   "metadata": {},
   "source": [
    "#### Define the tensors to hold the weights and biases (create the model)\n",
    "Hint: <br>\n",
    "Use `tf.Variable` to create the tensors.<br>\n",
    "Put the tensors in a list."
   ]
  },
  {
   "cell_type": "code",
   "execution_count": 14,
   "id": "a2e2172b",
   "metadata": {},
   "outputs": [],
   "source": [
    "input_dim = X.shape[1]\n",
    "hidden_units = 16\n",
    "\n",
    "W1 = tf.Variable(tf.random.normal([input_dim, hidden_units], stddev=0.1))\n",
    "B1 = tf.Variable(tf.zeros([hidden_units]))\n",
    "W2 = tf.Variable(tf.random.normal([hidden_units, 1], stddev=0.1))\n",
    "B2 = tf.Variable(tf.zeros([1]))\n",
    "\n",
    "model = ([W1, W2], [B1, B2])"
   ]
  },
  {
   "cell_type": "markdown",
   "id": "176badb8",
   "metadata": {},
   "source": [
    "#### Split the dataset\n",
    "The ratio of training and test is 7:1:2."
   ]
  },
  {
   "cell_type": "code",
   "execution_count": 18,
   "id": "5fa1b9b6",
   "metadata": {},
   "outputs": [],
   "source": [
    "from sklearn.datasets import load_iris\n",
    "import pandas as pd\n",
    "data = load_iris()\n",
    "X = pd.DataFrame(data.data, columns=data.feature_names)\n",
    "y = pd.Series(data.target)"
   ]
  },
  {
   "cell_type": "markdown",
   "id": "c3c4d6cf",
   "metadata": {},
   "source": [
    "#### Normalize the data"
   ]
  },
  {
   "cell_type": "code",
   "execution_count": null,
   "id": "f689b7c6",
   "metadata": {},
   "outputs": [],
   "source": [
    "#Already applied above using StandardScaler before splitting."
   ]
  },
  {
   "cell_type": "markdown",
   "id": "b1a2e7d6",
   "metadata": {},
   "source": [
    "#### Train the model"
   ]
  },
  {
   "cell_type": "code",
   "execution_count": 24,
   "id": "6304c496",
   "metadata": {},
   "outputs": [
    {
     "name": "stdout",
     "output_type": "stream",
     "text": [
      "Epoch 1, Train Loss: 6.3426, Val Loss: 6.2329\n",
      "Epoch 2, Train Loss: 6.2573, Val Loss: 6.1573\n",
      "Epoch 3, Train Loss: 6.1783, Val Loss: 6.0853\n",
      "Epoch 4, Train Loss: 6.1034, Val Loss: 6.0155\n",
      "Epoch 5, Train Loss: 6.0313, Val Loss: 5.9470\n",
      "Epoch 6, Train Loss: 5.9610, Val Loss: 5.8792\n",
      "Epoch 7, Train Loss: 5.8918, Val Loss: 5.8118\n",
      "Epoch 8, Train Loss: 5.8232, Val Loss: 5.7444\n",
      "Epoch 9, Train Loss: 5.7550, Val Loss: 5.6772\n",
      "Epoch 10, Train Loss: 5.6871, Val Loss: 5.6099\n",
      "Epoch 11, Train Loss: 5.6193, Val Loss: 5.5426\n",
      "Epoch 12, Train Loss: 5.5516, Val Loss: 5.4752\n",
      "Epoch 13, Train Loss: 5.4839, Val Loss: 5.4078\n",
      "Epoch 14, Train Loss: 5.4163, Val Loss: 5.3404\n",
      "Epoch 15, Train Loss: 5.3487, Val Loss: 5.2730\n",
      "Epoch 16, Train Loss: 5.2812, Val Loss: 5.2055\n",
      "Epoch 17, Train Loss: 5.2136, Val Loss: 5.1380\n",
      "Epoch 18, Train Loss: 5.1460, Val Loss: 5.0705\n",
      "Epoch 19, Train Loss: 5.0785, Val Loss: 5.0031\n",
      "Epoch 20, Train Loss: 5.0110, Val Loss: 4.9356\n"
     ]
    }
   ],
   "source": [
    "from sklearn.datasets import load_iris\n",
    "from sklearn.model_selection import train_test_split\n",
    "import pandas as pd\n",
    "import numpy as np\n",
    "import tensorflow as tf\n",
    "\n",
    "# 加载数据\n",
    "data = load_iris()\n",
    "X = pd.DataFrame(data.data, columns=data.feature_names)\n",
    "y = pd.Series(data.target)\n",
    "\n",
    "# 转换为 numpy 数组\n",
    "X = X.values.astype(np.float32)\n",
    "y = y.values.astype(np.int32)\n",
    "\n",
    "# 划分训练集和验证集\n",
    "X_train, X_val, y_train, y_val = train_test_split(X, y, test_size=0.2, random_state=42)\n",
    "\n",
    "# 定义模型\n",
    "class MyModel(tf.Module):\n",
    "    def __init__(self, input_dim, output_dim):\n",
    "        super().__init__()\n",
    "        self.w = tf.Variable(tf.random.normal([input_dim, output_dim]), name='w')\n",
    "        self.b = tf.Variable(tf.zeros([output_dim]), name='b')\n",
    "\n",
    "    def __call__(self, x):\n",
    "        return tf.matmul(x, self.w) + self.b\n",
    "\n",
    "# 定义损失函数\n",
    "def loss_fn(y_true, y_pred):\n",
    "    return tf.reduce_mean(tf.nn.sparse_softmax_cross_entropy_with_logits(labels=y_true, logits=y_pred))\n",
    "\n",
    "# 定义训练函数\n",
    "def fit(model, train_data, val_data, batch_size, alpha, max_epochs):\n",
    "    X_train, y_train = train_data\n",
    "    X_val, y_val = val_data\n",
    "    train_losses, val_losses = [], []\n",
    "    optimizer = tf.optimizers.SGD(learning_rate=alpha)\n",
    "\n",
    "    for epoch in range(max_epochs):\n",
    "        with tf.GradientTape() as tape:\n",
    "            logits = model(X_train)\n",
    "            train_loss = loss_fn(y_train, logits)\n",
    "        grads = tape.gradient(train_loss, [model.w, model.b])\n",
    "        optimizer.apply_gradients(zip(grads, [model.w, model.b]))\n",
    "\n",
    "        # 验证集损失\n",
    "        val_logits = model(X_val)\n",
    "        val_loss = loss_fn(y_val, val_logits)\n",
    "\n",
    "        train_losses.append(train_loss.numpy())\n",
    "        val_losses.append(val_loss.numpy())\n",
    "        print(f\"Epoch {epoch+1}, Train Loss: {train_loss.numpy():.4f}, Val Loss: {val_loss.numpy():.4f}\")\n",
    "\n",
    "    return train_losses, val_losses\n",
    "\n",
    "# 实例化模型并训练\n",
    "model = MyModel(input_dim=4, output_dim=3)\n",
    "train_loss_list, val_loss_list = fit(\n",
    "    model,\n",
    "    (X_train, y_train),\n",
    "    (X_val, y_val),\n",
    "    batch_size=32,\n",
    "    alpha=0.01,\n",
    "    max_epochs=20\n",
    ")"
   ]
  },
  {
   "cell_type": "markdown",
   "id": "45c41885",
   "metadata": {},
   "source": [
    "#### Display the training loss and validation loss against epoch graph"
   ]
  },
  {
   "cell_type": "code",
   "execution_count": 26,
   "id": "47f05472",
   "metadata": {},
   "outputs": [
    {
     "data": {
      "image/png": "[encoded data removed]",
      "text/plain": [
       "<Figure size 640x480 with 1 Axes>"
      ]
     },
     "metadata": {},
     "output_type": "display_data"
    }
   ],
   "source": [
    "plt.plot(train_loss_list, label=\"Train Loss\")\n",
    "plt.plot(val_loss_list, label=\"Validation Loss\")\n",
    "plt.xlabel(\"Epoch\")\n",
    "plt.ylabel(\"Loss\")\n",
    "plt.title(\"Loss vs Epoch\")\n",
    "plt.legend()\n",
    "plt.grid(True)\n",
    "plt.show()"
   ]
  },
  {
   "cell_type": "markdown",
   "id": "0c0b4c38",
   "metadata": {},
   "source": [
    "#### Predict the test set"
   ]
  },
  {
   "cell_type": "code",
   "execution_count": 34,
   "id": "a84f73b1",
   "metadata": {},
   "outputs": [],
   "source": [
    "logits = model(tf.convert_to_tensor(X_val))\n",
    "yhat_test = tf.nn.softmax(logits, axis=1).numpy()\n",
    "y_pred = np.argmax(yhat_test, axis=1)"
   ]
  },
  {
   "cell_type": "markdown",
   "id": "20d715ef",
   "metadata": {},
   "source": [
    "#### Display the confusion matrix and the classification report."
   ]
  },
  {
   "cell_type": "code",
   "execution_count": 43,
   "id": "c35deeb3",
   "metadata": {},
   "outputs": [
    {
     "name": "stdout",
     "output_type": "stream",
     "text": [
      "\n",
      "Confusion Matrix:\n",
      "[[ 0 11  0]\n",
      " [ 0  1 12]\n",
      " [ 0  0  6]]\n",
      "\n",
      "Classification Report:\n",
      "              precision    recall  f1-score   support\n",
      "\n",
      "           0       0.00      0.00      0.00        11\n",
      "           1       0.08      0.08      0.08        13\n",
      "           2       0.33      1.00      0.50         6\n",
      "\n",
      "    accuracy                           0.23        30\n",
      "   macro avg       0.14      0.36      0.19        30\n",
      "weighted avg       0.10      0.23      0.13        30\n",
      "\n"
     ]
    }
   ],
   "source": [
    "logits = model(tf.convert_to_tensor(X_test))\n",
    "yhat_test = tf.nn.softmax(logits, axis=1).numpy()\n",
    "y_pred = np.argmax(yhat_test, axis=1)\n",
    "\n",
    "print(\"\\nConfusion Matrix:\")\n",
    "print(confusion_matrix(y_test, y_pred))\n",
    "\n",
    "print(\"\\nClassification Report:\")\n",
    "print(classification_report(y_test, y_pred, zero_division=0))"
   ]
  },
  {
   "cell_type": "code",
   "execution_count": null,
   "id": "cad73929-2572-422e-b63f-49b94fae627d",
   "metadata": {},
   "outputs": [],
   "source": []
  }
 ],
 "metadata": {
  "kernelspec": {
   "display_name": "Python [conda env:base] *",
   "language": "python",
   "name": "conda-base-py"
  },
  "language_info": {
   "codemirror_mode": {
    "name": "ipython",
    "version": 3
   },
   "file_extension": ".py",
   "mimetype": "text/x-python",
   "name": "python",
   "nbconvert_exporter": "python",
   "pygments_lexer": "ipython3",
   "version": "3.11.7"
  }
 },
 "nbformat": 4,
 "nbformat_minor": 5
}
